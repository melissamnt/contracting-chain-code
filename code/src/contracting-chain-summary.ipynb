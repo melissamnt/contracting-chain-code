{
 "cells": [
  {
   "cell_type": "markdown",
   "metadata": {},
   "source": [
    "# Automated Reconstruction of Colombian Public Procurement Contracting Chain"
   ]
  },
  {
   "cell_type": "markdown",
   "metadata": {},
   "source": [
    "## About the project\n",
    "\n",
    "This project proposes a methodology to automatically reconstruct the chain of inter-administrative contracts, using the open contracting database SECOP. The chain consists of two (or more) independent contracts:\n",
    "\n",
    "1. Contract issued by an public entity to a municipality/department\n",
    "2. Contract(s) issued by the municipality/department to a third party contractor\n",
    "\n",
    "We use two main variables to reconstruct the chain: Description of the contract and Municipality/Department in the contract. We construct the chain with a tf-idf approach to numerically represent the strings, and cosine similarity to obtain a similarity measure among contracts. The automated reconstruction of the contracting chain facilitates the implementation of mechanisms that can increase the citizenship involvement in governmental processes."
   ]
  },
  {
   "cell_type": "markdown",
   "metadata": {},
   "source": [
    "## Data extraction"
   ]
  },
  {
   "cell_type": "markdown",
   "metadata": {},
   "source": [
    "Our data source is the open database from the Colombian National Government (https://www.datos.gov.co/). We obtain the datasets with Socrata API. From there we extract two datasets:\n",
    "\n",
    "1. SECOP: Electronic Public Procurement Database. All public contracts issued since 2012 by public entities, municipalities, departments, among others. (~8 million rows)\n",
    "2. Official municipalities and departments names in Colombia.\n",
    "\n",
    "From now on we are gonna test the code with a public entity called \"INSTITUTO NACIONAL DE VÍAS (INVIAS)\"."
   ]
  },
  {
   "cell_type": "code",
   "execution_count": 1,
   "metadata": {},
   "outputs": [
    {
     "name": "stderr",
     "output_type": "stream",
     "text": [
      "[nltk_data] Downloading package punkt to\n",
      "[nltk_data]     /Users/melissamontes/nltk_data...\n",
      "[nltk_data]   Package punkt is already up-to-date!\n",
      "[nltk_data] Downloading package stopwords to\n",
      "[nltk_data]     /Users/melissamontes/nltk_data...\n",
      "[nltk_data]   Package stopwords is already up-to-date!\n"
     ]
    }
   ],
   "source": [
    "import pandas as pd\n",
    "\n",
    "# Files with functions\n",
    "import data_extraction_functions as extract\n",
    "import data_cleaning_functions as clean\n",
    "import string_similarity_functions as ss"
   ]
  },
  {
   "cell_type": "markdown",
   "metadata": {},
   "source": [
    "### Sample of source datasets"
   ]
  },
  {
   "cell_type": "markdown",
   "metadata": {},
   "source": [
    "Public entity (INVIAS) dataset:"
   ]
  },
  {
   "cell_type": "code",
   "execution_count": 2,
   "metadata": {},
   "outputs": [
    {
     "data": {
      "text/html": [
       "<div>\n",
       "<style scoped>\n",
       "    .dataframe tbody tr th:only-of-type {\n",
       "        vertical-align: middle;\n",
       "    }\n",
       "\n",
       "    .dataframe tbody tr th {\n",
       "        vertical-align: top;\n",
       "    }\n",
       "\n",
       "    .dataframe thead th {\n",
       "        text-align: right;\n",
       "    }\n",
       "</style>\n",
       "<table border=\"1\" class=\"dataframe\">\n",
       "  <thead>\n",
       "    <tr style=\"text-align: right;\">\n",
       "      <th></th>\n",
       "      <th>uid</th>\n",
       "      <th>anno_cargue_secop</th>\n",
       "      <th>anno_firma_del_contrato</th>\n",
       "      <th>nivel_entidad</th>\n",
       "      <th>orden_entidad</th>\n",
       "      <th>nombre_de_la_entidad</th>\n",
       "      <th>nit_de_la_entidad</th>\n",
       "      <th>c_digo_de_la_entidad</th>\n",
       "      <th>id_tipo_de_proceso</th>\n",
       "      <th>tipo_de_proceso</th>\n",
       "      <th>...</th>\n",
       "      <th>espostconflicto</th>\n",
       "      <th>marcacion_adiciones</th>\n",
       "      <th>posicion_rubro</th>\n",
       "      <th>nombre_rubro</th>\n",
       "      <th>valor_rubro</th>\n",
       "      <th>sexo_replegal_entidad</th>\n",
       "      <th>pilar_acuerdo_paz</th>\n",
       "      <th>punto_acuerdo_paz</th>\n",
       "      <th>municipio_entidad</th>\n",
       "      <th>departamento_entidad</th>\n",
       "    </tr>\n",
       "  </thead>\n",
       "  <tbody>\n",
       "    <tr>\n",
       "      <td>0</td>\n",
       "      <td>13-12-1708661-1600394</td>\n",
       "      <td>2013</td>\n",
       "      <td>2012</td>\n",
       "      <td>NACIONAL</td>\n",
       "      <td>NACIONAL CENTRALIZADO</td>\n",
       "      <td>INSTITUTO NACIONAL DE VÍAS (INVIAS)</td>\n",
       "      <td>800215807</td>\n",
       "      <td>124002002</td>\n",
       "      <td>12</td>\n",
       "      <td>Contratación Directa (Ley 1150 de 2007)</td>\n",
       "      <td>...</td>\n",
       "      <td>No Definido</td>\n",
       "      <td>No</td>\n",
       "      <td>No Definido</td>\n",
       "      <td>No Definido</td>\n",
       "      <td>0</td>\n",
       "      <td>ND</td>\n",
       "      <td>No Definido</td>\n",
       "      <td>No Definido</td>\n",
       "      <td>Bogotá D.C.</td>\n",
       "      <td>Bogotá D.C.</td>\n",
       "    </tr>\n",
       "    <tr>\n",
       "      <td>1</td>\n",
       "      <td>10-12-402771-0</td>\n",
       "      <td>2010</td>\n",
       "      <td>NaN</td>\n",
       "      <td>NACIONAL</td>\n",
       "      <td>NACIONAL CENTRALIZADO</td>\n",
       "      <td>INSTITUTO NACIONAL DE VÍAS (INVIAS)</td>\n",
       "      <td>800215807</td>\n",
       "      <td>124002002</td>\n",
       "      <td>12</td>\n",
       "      <td>Contratación Directa (Ley 1150 de 2007)</td>\n",
       "      <td>...</td>\n",
       "      <td>No Definido</td>\n",
       "      <td>No</td>\n",
       "      <td>No Definido</td>\n",
       "      <td>No Definido</td>\n",
       "      <td>0</td>\n",
       "      <td>ND</td>\n",
       "      <td>No Definido</td>\n",
       "      <td>No Definido</td>\n",
       "      <td>Bogotá D.C.</td>\n",
       "      <td>Bogotá D.C.</td>\n",
       "    </tr>\n",
       "  </tbody>\n",
       "</table>\n",
       "<p>2 rows × 71 columns</p>\n",
       "</div>"
      ],
      "text/plain": [
       "                     uid anno_cargue_secop anno_firma_del_contrato  \\\n",
       "0  13-12-1708661-1600394              2013                    2012   \n",
       "1         10-12-402771-0              2010                     NaN   \n",
       "\n",
       "  nivel_entidad          orden_entidad                 nombre_de_la_entidad  \\\n",
       "0      NACIONAL  NACIONAL CENTRALIZADO  INSTITUTO NACIONAL DE VÍAS (INVIAS)   \n",
       "1      NACIONAL  NACIONAL CENTRALIZADO  INSTITUTO NACIONAL DE VÍAS (INVIAS)   \n",
       "\n",
       "  nit_de_la_entidad c_digo_de_la_entidad id_tipo_de_proceso  \\\n",
       "0         800215807            124002002                 12   \n",
       "1         800215807            124002002                 12   \n",
       "\n",
       "                           tipo_de_proceso  ... espostconflicto  \\\n",
       "0  Contratación Directa (Ley 1150 de 2007)  ...     No Definido   \n",
       "1  Contratación Directa (Ley 1150 de 2007)  ...     No Definido   \n",
       "\n",
       "  marcacion_adiciones posicion_rubro nombre_rubro valor_rubro  \\\n",
       "0                  No    No Definido  No Definido           0   \n",
       "1                  No    No Definido  No Definido           0   \n",
       "\n",
       "  sexo_replegal_entidad pilar_acuerdo_paz punto_acuerdo_paz municipio_entidad  \\\n",
       "0                    ND       No Definido       No Definido       Bogotá D.C.   \n",
       "1                    ND       No Definido       No Definido       Bogotá D.C.   \n",
       "\n",
       "  departamento_entidad  \n",
       "0          Bogotá D.C.  \n",
       "1          Bogotá D.C.  \n",
       "\n",
       "[2 rows x 71 columns]"
      ]
     },
     "execution_count": 2,
     "metadata": {},
     "output_type": "execute_result"
    }
   ],
   "source": [
    "df_entity_raw = extract.extract_entity_contracts('INSTITUTO NACIONAL DE VÍAS (INVIAS)')\n",
    "df_entity_raw.head(2)"
   ]
  },
  {
   "cell_type": "markdown",
   "metadata": {},
   "source": [
    "Municipalities and departments names"
   ]
  },
  {
   "cell_type": "code",
   "execution_count": 3,
   "metadata": {},
   "outputs": [
    {
     "data": {
      "text/html": [
       "<div>\n",
       "<style scoped>\n",
       "    .dataframe tbody tr th:only-of-type {\n",
       "        vertical-align: middle;\n",
       "    }\n",
       "\n",
       "    .dataframe tbody tr th {\n",
       "        vertical-align: top;\n",
       "    }\n",
       "\n",
       "    .dataframe thead th {\n",
       "        text-align: right;\n",
       "    }\n",
       "</style>\n",
       "<table border=\"1\" class=\"dataframe\">\n",
       "  <thead>\n",
       "    <tr style=\"text-align: right;\">\n",
       "      <th></th>\n",
       "      <th>region</th>\n",
       "      <th>c_digo_dane_del_departamento</th>\n",
       "      <th>departamento</th>\n",
       "      <th>c_digo_dane_del_municipio</th>\n",
       "      <th>municipio</th>\n",
       "    </tr>\n",
       "  </thead>\n",
       "  <tbody>\n",
       "    <tr>\n",
       "      <td>0</td>\n",
       "      <td>Región Eje Cafetero - Antioquia</td>\n",
       "      <td>5</td>\n",
       "      <td>Antioquia</td>\n",
       "      <td>5001</td>\n",
       "      <td>Medellín</td>\n",
       "    </tr>\n",
       "    <tr>\n",
       "      <td>1</td>\n",
       "      <td>Región Eje Cafetero - Antioquia</td>\n",
       "      <td>5</td>\n",
       "      <td>Antioquia</td>\n",
       "      <td>5002</td>\n",
       "      <td>Abejorral</td>\n",
       "    </tr>\n",
       "  </tbody>\n",
       "</table>\n",
       "</div>"
      ],
      "text/plain": [
       "                            region c_digo_dane_del_departamento departamento  \\\n",
       "0  Región Eje Cafetero - Antioquia                            5    Antioquia   \n",
       "1  Región Eje Cafetero - Antioquia                            5    Antioquia   \n",
       "\n",
       "  c_digo_dane_del_municipio  municipio  \n",
       "0                      5001   Medellín  \n",
       "1                      5002  Abejorral  "
      ]
     },
     "execution_count": 3,
     "metadata": {},
     "output_type": "execute_result"
    }
   ],
   "source": [
    "df_names_raw = extract.extract_mun_names()\n",
    "df_names_raw.head(2)"
   ]
  },
  {
   "cell_type": "markdown",
   "metadata": {},
   "source": [
    "### Feature overview\n",
    "The main features we use for the chain construction in each dataset are:\n",
    "\n",
    "**Contracting dataset**\n",
    "\n",
    "- _anno_firma_del_contrato_: Year when the contract was issued \n",
    "- _nombre_de_la_entidad_: Name of the entity that issued the contract (offeror)\n",
    "- _nom_raz_social_contratista_: Name of the entity that accepted the contract (offerer)\n",
    "- _detalle_del_objeto_a_contratar_: Description of the contract\n",
    "\n",
    "**Municipality/department names dataset**\n",
    "- _departamento_: Department name\n",
    "- _municipio_: Municipality name"
   ]
  },
  {
   "cell_type": "markdown",
   "metadata": {},
   "source": [
    "# Data preprocessing"
   ]
  },
  {
   "cell_type": "markdown",
   "metadata": {},
   "source": [
    "Now we preprocess the raw data to remove unwanted rows, standardize the names of departments/municipalities. We perform the following steps:\n",
    "\n",
    "Public entity contracting dataframe:\n",
    "\n",
    "1.  (SECOP dataframe) Remove contracts issued by the _public entity_ that are not issued to a municipality/department, and with incoherent info.\n",
    "2.  (SECOP dataframe) Obtain list of all municipalities/departments with a contract with the entity.\n",
    "3.  (SECOP dataframe and Names dataframe) Standardize names of each municipality/department to SECOP standard with the official names dataframe.\n",
    "\n",
    "We perform this standardization to ensure the joining process between the dataframe of the contracts issued by the public entity and the contracts issued by the municipality/department.\n",
    "\n",
    "The standardization of the description of the contract is performed in the next step."
   ]
  },
  {
   "cell_type": "code",
   "execution_count": 4,
   "metadata": {},
   "outputs": [
    {
     "name": "stderr",
     "output_type": "stream",
     "text": [
      "/Users/melissamontes/anaconda3/lib/python3.7/site-packages/pandas/core/frame.py:3494: SettingWithCopyWarning: \n",
      "A value is trying to be set on a copy of a slice from a DataFrame.\n",
      "Try using .loc[row_indexer,col_indexer] = value instead\n",
      "\n",
      "See the caveats in the documentation: http://pandas.pydata.org/pandas-docs/stable/user_guide/indexing.html#returning-a-view-versus-a-copy\n",
      "  self[k1] = value[k2]\n"
     ]
    }
   ],
   "source": [
    "# Cleaning unused rows\n",
    "df_entity_filter = clean.df_cleaning(df_entity_raw)\n",
    "# Filter entity contracts: only contracts issued to a mun/dept.\n",
    "# Also gets list of names of mun/dept. with contracts with the entity\n",
    "df_entity, names_mun_list = clean.df_filter_entity(df_entity_filter)\n",
    "\n",
    "# Get clean list of departments and municipalities of Colombia\n",
    "df_names = clean.df_cleaning_names(df_names_raw)\n",
    "\n",
    "# First standardization: names of mun/dept. with contracts with the entity\n",
    "names_mun_list = [clean.strip_accents(item) for item in names_mun_list]\n",
    "names_mun_standard = []\n",
    "for item in names_mun_list:\n",
    "    if 'MUNICIPIO' in item:\n",
    "        names_mun_standard.append(clean.standarize_mun(item))\n",
    "    else:\n",
    "        names_mun_standard.append(clean.standarize_depto(item))\n",
    "\n",
    "# Second standardization: accent standardization without accents with official names\n",
    "names_mun_standard = clean.standardize_accents_mun(df_names, names_mun_standard)\n",
    "\n",
    "# Third standardization: format standardization to ensure a right joining\n",
    "names_mun_standard = clean.standardize_format_mun(df_names, names_mun_standard)  \n",
    "\n",
    "# Assign new column to entity dataframe\n",
    "df_entity = df_entity.assign(nom_raz_soc_stand=names_mun_standard)\n",
    "names_mun_standard_list = list(set(names_mun_standard))"
   ]
  },
  {
   "cell_type": "markdown",
   "metadata": {},
   "source": [
    "Sample of municipality names before and after standardization: "
   ]
  },
  {
   "cell_type": "code",
   "execution_count": 5,
   "metadata": {},
   "outputs": [
    {
     "name": "stdout",
     "output_type": "stream",
     "text": [
      "Before standardization: \n",
      "['MUNICIPIO DE SANTIAGO DE CALI', 'MUNICIPIO DE SAN RAFAEL']\n",
      "After standardization: \n",
      "['MUNICIPIO DE ZAPAYAN', 'CALDAS - ALCALDÍA MUNICIPIO DE VICTORIA']\n"
     ]
    }
   ],
   "source": [
    "print('Before standardization: ')\n",
    "print(names_mun_list[10:12])\n",
    "print('After standardization: ')\n",
    "print(names_mun_standard_list[10:12])"
   ]
  },
  {
   "cell_type": "markdown",
   "metadata": {},
   "source": [
    "# Construction of the contracting chain"
   ]
  },
  {
   "cell_type": "markdown",
   "metadata": {},
   "source": [
    "We perform an algorithm to construct the contracting chain for each of the contracts that the public entity issued. The algorithm will have to search in two dataframes:\n",
    "\n",
    "- Dataframe 1: Contracts issued by the public entity to the municipality/department \n",
    "- Dataframe 2: Contracts issued by the municipality/department to a private contractor\n",
    "\n",
    "The algorithm will:\n",
    "\n",
    "1. Select a contract issued by the __public entity__ to the __municipality/department__ (Dataframe 1)\n",
    "2. Look all the contract issued by the __municipality/department__ to a private contractor (Dataframe 2), and search for the contracts with the highest similarity with the description of the 1st contract (1).\n",
    "3. The contracts with a similarity measure higher than 0.8 will be chained.\n",
    "\n",
    "The resulting dataframe will have:\n",
    "- A row for each chained contracts, with all the information available in SECOP for both contracts"
   ]
  },
  {
   "cell_type": "markdown",
   "metadata": {},
   "source": [
    "### Similarity measure\n",
    "The similarity measure is performed by the following steps:\n",
    "1. Transforms 'description of the contract' for both databases with __tf-idf__. We tokenize by 3-grams to reduce noise from typing errors.\n",
    "2. Gets similarity scores with cosine similarity.\n",
    "3. Converts similarity matrix (sparse) to a readable df"
   ]
  },
  {
   "cell_type": "code",
   "execution_count": 12,
   "metadata": {},
   "outputs": [],
   "source": [
    "# Parameters\n",
    "chain_cont = 0\n",
    "threshold = 0.8\n",
    "chain_df = pd.DataFrame()\n",
    "\n",
    "# Small sample of municipalities\n",
    "list_mun = ['HUILA - ALCALDÍA MUNICIPIO DE NEIVA', \n",
    "            'SANTANDER - ALCALDÍA MUNICIPIO DE BUCARAMANGA', \n",
    "            'VALLE DEL CAUCA - ALCALDÍA MUNICIPIO DE PALMIRA']\n",
    "n_contracts = 3\n",
    "entity_contracts = df_entity\n",
    "\n",
    "for i, item in enumerate(list_mun):\n",
    "    #if i % 10 == 0:\n",
    "    #    print(\"Iteration # \" + str(i) + \";     Mun/Dept Name: \" + str(item))\n",
    "\n",
    "    mun_name = list_mun[i]\n",
    "\n",
    "    # Subsets public entity df to contracts issued for the mun/dept.\n",
    "    entity_contracts_mun = entity_contracts.loc[entity_contracts['nom_raz_soc_stand'] == item]\n",
    "\n",
    "    mun_contracts = extract.extract_mun_contracts(mun_name)\n",
    "    # If there are no contracts for the mun/dept. in SECOP continue\n",
    "    if mun_contracts.empty:\n",
    "        continue\n",
    "\n",
    "    mun_contracts = clean.df_cleaning(mun_contracts)\n",
    "    # If there are no contracts for the mun/dept. in the states allowed, continue\n",
    "    # States = 'Liquidado', 'Terminado Sin Liquidar', 'Celebrado', 'Adjudicado', 'Convocado'\n",
    "    if mun_contracts.empty:\n",
    "        continue\n",
    "\n",
    "    # Approximate string matching\n",
    "    for index, entity_row in entity_contracts_mun.iterrows():\n",
    "\n",
    "        # Only evaluate mun/dept contracts issued on or after year of the entity contract\n",
    "        mun_contracts_filter = mun_contracts[\n",
    "            (mun_contracts.anno_firma_del_contrato >= entity_row['anno_firma_del_contrato']) |\n",
    "            (mun_contracts['anno_firma_del_contrato'].isnull())]\n",
    "        mun_contracts_filter = mun_contracts_filter.reset_index(drop=True)\n",
    "\n",
    "        # Create list with description of each contract to evaluate\n",
    "        mun_description = mun_contracts_filter['detalle_del_objeto_a_contratar']\n",
    "        mun_description_list = list(map(str, list(map(clean.standarize_obj, mun_description))))\n",
    "        mun_description_list = pd.Series(mun_description_list)\n",
    "        entity_description_list = pd.Series(clean.standarize_obj(entity_row['detalle_del_objeto_a_contratar']))\n",
    "\n",
    "        # Paste descriptions mun/dept. and entity. Last row = entity contract\n",
    "        description_list = list(mun_description_list) + list(entity_description_list)\n",
    "\n",
    "        # String similarity algorithm -----\n",
    "        # 1. Transforms strings with tf-idf algorithm to a numeric matrix\n",
    "        tf_idf_matrix = ss.tf_idf(description_list)\n",
    "        # 2. Gets similarity scores in a sparse matrix\n",
    "        matches_sparse = ss.awesome_cossim_top(tf_idf_matrix, tf_idf_matrix.transpose(), n_contracts)\n",
    "        # 3. Converts similarity matrix to a readable df\n",
    "        matches_df = ss.get_matches_df(matches_sparse, description_list)\n",
    "\n",
    "        # Chain construction ----\n",
    "        # Pastes complete info of the contracts with high similitude\n",
    "        for index_chain, row_chain in matches_df.loc[matches_df['pos_left'] == (len(description_list)-1)].iterrows():\n",
    "            if row_chain['pos_left'] == row_chain['pos_right']: continue\n",
    "            score = row_chain['similarity']\n",
    "            # Joining info\n",
    "            chain_entity = entity_row.to_frame().T\n",
    "            if len(mun_contracts_filter) == row_chain['pos_right']: continue\n",
    "            chain_mun = mun_contracts_filter.iloc[row_chain['pos_right']].to_frame().T\n",
    "            chain_entity.index = [chain_cont]\n",
    "            chain_mun.index = [chain_cont]\n",
    "            chain_mun.columns = [str(col) + '_mun' for col in chain_mun.columns]\n",
    "            chain_result = pd.concat([chain_entity, chain_mun], axis=1, join='inner', sort=True)\n",
    "            chain_df = chain_df.append(chain_result, sort=False)\n",
    "            chain_df.at[chain_df.index[chain_cont], 'score'] = score\n",
    "            if score > threshold:\n",
    "                chain_df.at[chain_df.index[chain_cont], 'valid'] = True\n",
    "            else:\n",
    "                chain_df.at[chain_df.index[chain_cont], 'valid'] = False\n",
    "            chain_cont = chain_cont + 1"
   ]
  },
  {
   "cell_type": "markdown",
   "metadata": {},
   "source": [
    "Sample of description of the contracts matched by string similitude"
   ]
  },
  {
   "cell_type": "code",
   "execution_count": 13,
   "metadata": {},
   "outputs": [
    {
     "data": {
      "text/html": [
       "<div>\n",
       "<style scoped>\n",
       "    .dataframe tbody tr th:only-of-type {\n",
       "        vertical-align: middle;\n",
       "    }\n",
       "\n",
       "    .dataframe tbody tr th {\n",
       "        vertical-align: top;\n",
       "    }\n",
       "\n",
       "    .dataframe thead th {\n",
       "        text-align: right;\n",
       "    }\n",
       "</style>\n",
       "<table border=\"1\" class=\"dataframe\">\n",
       "  <thead>\n",
       "    <tr style=\"text-align: right;\">\n",
       "      <th></th>\n",
       "      <th>detalle_del_objeto_a_contratar</th>\n",
       "      <th>detalle_del_objeto_a_contratar_mun</th>\n",
       "    </tr>\n",
       "  </thead>\n",
       "  <tbody>\n",
       "    <tr>\n",
       "      <td>0</td>\n",
       "      <td>MEJORAMIENTO  MANTENIMIENTO Y CONSERVACION DE ...</td>\n",
       "      <td>MEJORAMIENTO  MANTENIMIENTO Y CONSERVACIÓN DE ...</td>\n",
       "    </tr>\n",
       "    <tr>\n",
       "      <td>2</td>\n",
       "      <td>PAVIMENTACION DE LA RUTA DE LA FRESA  SECTOR P...</td>\n",
       "      <td>PAVIMENTACIÓN DE LA RUTA DE LA FRESA  SECTOR P...</td>\n",
       "    </tr>\n",
       "    <tr>\n",
       "      <td>4</td>\n",
       "      <td>MANTENIMIENTO Y MEJORAMIENTO DE LA VIA LA BUIT...</td>\n",
       "      <td>MANTENIMIENTO Y MEJORAMIENTO VIAS LA BUITRERA ...</td>\n",
       "    </tr>\n",
       "    <tr>\n",
       "      <td>6</td>\n",
       "      <td>MEJORAMIENTO  MANTENIMIENTO Y CONSERVACION DE ...</td>\n",
       "      <td>MEJORAMIENTO  MANTENIMIENTO Y CONSERVACIÓN DE ...</td>\n",
       "    </tr>\n",
       "    <tr>\n",
       "      <td>8</td>\n",
       "      <td>MEJORAMIENTO  MANTENIMIENTO Y CONCERVACION DE ...</td>\n",
       "      <td>MEJORAMIENTO  MANTENIMIENTO Y CONSERVACIÓN DE ...</td>\n",
       "    </tr>\n",
       "  </tbody>\n",
       "</table>\n",
       "</div>"
      ],
      "text/plain": [
       "                      detalle_del_objeto_a_contratar  \\\n",
       "0  MEJORAMIENTO  MANTENIMIENTO Y CONSERVACION DE ...   \n",
       "2  PAVIMENTACION DE LA RUTA DE LA FRESA  SECTOR P...   \n",
       "4  MANTENIMIENTO Y MEJORAMIENTO DE LA VIA LA BUIT...   \n",
       "6  MEJORAMIENTO  MANTENIMIENTO Y CONSERVACION DE ...   \n",
       "8  MEJORAMIENTO  MANTENIMIENTO Y CONCERVACION DE ...   \n",
       "\n",
       "                  detalle_del_objeto_a_contratar_mun  \n",
       "0  MEJORAMIENTO  MANTENIMIENTO Y CONSERVACIÓN DE ...  \n",
       "2  PAVIMENTACIÓN DE LA RUTA DE LA FRESA  SECTOR P...  \n",
       "4  MANTENIMIENTO Y MEJORAMIENTO VIAS LA BUITRERA ...  \n",
       "6  MEJORAMIENTO  MANTENIMIENTO Y CONSERVACIÓN DE ...  \n",
       "8  MEJORAMIENTO  MANTENIMIENTO Y CONSERVACIÓN DE ...  "
      ]
     },
     "execution_count": 13,
     "metadata": {},
     "output_type": "execute_result"
    }
   ],
   "source": [
    "chain_df_final = chain_df.loc[chain_df[\"valid\"]][[\"detalle_del_objeto_a_contratar\", \"detalle_del_objeto_a_contratar_mun\"]]\n",
    "chain_df_final.head()"
   ]
  },
  {
   "cell_type": "markdown",
   "metadata": {},
   "source": [
    "# Conclusions and outlook\n",
    "In this project we developed an algorithm that reconstructs automatically the contracting chain between contracts issued by a public entity to a municipality/department; and contracts issued by a muncipality/department to a third party contract. We performed three stages for this:\n",
    "\n",
    "1. Data extraction\n",
    "2. Data preprocessing\n",
    "3. Construction of the contracting chain\n",
    "\n",
    "With this algorithm we are automating tasks that were performed manually, and we open the doors to a macroscopic evaluation of the Colombian contracting landscape."
   ]
  }
 ],
 "metadata": {
  "kernelspec": {
   "display_name": "Python 3",
   "language": "python",
   "name": "python3"
  },
  "language_info": {
   "codemirror_mode": {
    "name": "ipython",
    "version": 3
   },
   "file_extension": ".py",
   "mimetype": "text/x-python",
   "name": "python",
   "nbconvert_exporter": "python",
   "pygments_lexer": "ipython3",
   "version": "3.7.1"
  }
 },
 "nbformat": 4,
 "nbformat_minor": 4
}
